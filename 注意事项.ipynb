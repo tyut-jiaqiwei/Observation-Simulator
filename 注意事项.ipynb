{
 "cells": [
  {
   "cell_type": "code",
   "execution_count": 4,
   "metadata": {
    "collapsed": true,
    "pycharm": {
     "is_executing": false
    }
   },
   "outputs": [],
   "source": [
    "# 所有角度都用ephem.degrees转换m"
   ]
  },
  {
   "cell_type": "code",
   "execution_count": 3,
   "outputs": [
    {
     "name": "stdout",
     "text": [
      "90:00:00.0\n180:00:00.1\nFalse\n"
     ],
     "output_type": "stream"
    }
   ],
   "source": [
    "import ephem\n",
    "a = ephem.degrees('90.0')\n",
    "print(a)\n",
    "b = ephem.degrees(3.141593)\n",
    "print(b)\n",
    "print(a>b)\n"
   ],
   "metadata": {
    "collapsed": false,
    "pycharm": {
     "name": "#%%\n",
     "is_executing": false
    }
   }
  },
  {
   "cell_type": "code",
   "execution_count": 14,
   "outputs": [
    {
     "name": "stdout",
     "text": [
      "['tele1', 'tele2']\n93.20\n"
     ],
     "output_type": "stream"
    }
   ],
   "source": [
    "import configparser\n",
    "import ephem\n",
    "#  实例化configParser对象\n",
    "config = configparser.ConfigParser()\n",
    "# read读取ini文件,设定编解码方式\n",
    "config.read('config/Observatorys.ini', encoding='utf-8')\n",
    "all_sections = config.sections()\n",
    "print(all_sections[1:])"
   ],
   "metadata": {
    "collapsed": false,
    "pycharm": {
     "name": "#%%\n",
     "is_executing": false
    }
   }
  },
  {
   "cell_type": "code",
   "execution_count": 15,
   "outputs": [
    {
     "name": "stdout",
     "text": [
      "tele1\n<class 'str'>\n93.20\ntele2\n<class 'str'>\n93.20\n"
     ],
     "output_type": "stream"
    }
   ],
   "source": [
    "# 通过这样遍历，创建观测站实例和望远镜实例\n",
    "for section in all_sections[1:]:\n",
    "    print(section)\n",
    "    print(type(section))\n",
    "    print(config.get(section,'longitude'))"
   ],
   "metadata": {
    "collapsed": false,
    "pycharm": {
     "name": "#%%\n",
     "is_executing": false
    }
   }
  },
  {
   "cell_type": "code",
   "execution_count": 2,
   "outputs": [
    {
     "name": "stdout",
     "text": [
      "3\n7\n"
     ],
     "output_type": "stream"
    }
   ],
   "source": [
    "class Dog:\n",
    "    def __init__(self,a,b):\n",
    "        self.a,self.b = a,b\n",
    "    @property\n",
    "    def ab(self):return self.a + self.b\n",
    "    \n",
    "dd = Dog(1,2)\n",
    "print(dd.ab)\n",
    "dd.a = 5\n",
    "print(dd.ab)"
   ],
   "metadata": {
    "collapsed": false,
    "pycharm": {
     "name": "#%%\n",
     "is_executing": false
    }
   }
  },
  {
   "cell_type": "code",
   "execution_count": null,
   "outputs": [],
   "source": [
    "\n"
   ],
   "metadata": {
    "collapsed": false,
    "pycharm": {
     "name": "#%%\n"
    }
   }
  }
 ],
 "metadata": {
  "kernelspec": {
   "name": "pycharm-6467a593",
   "language": "python",
   "display_name": "PyCharm (RL-telescope-control)"
  },
  "language_info": {
   "codemirror_mode": {
    "name": "ipython",
    "version": 2
   },
   "file_extension": ".py",
   "mimetype": "text/x-python",
   "name": "python",
   "nbconvert_exporter": "python",
   "pygments_lexer": "ipython2",
   "version": "2.7.6"
  },
  "pycharm": {
   "stem_cell": {
    "cell_type": "raw",
    "source": [],
    "metadata": {
     "collapsed": false
    }
   }
  }
 },
 "nbformat": 4,
 "nbformat_minor": 0
}